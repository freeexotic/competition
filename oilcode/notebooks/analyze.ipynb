{
 "cells": [
  {
   "cell_type": "markdown",
   "metadata": {},
   "source": [
    "# Проанализируем данные"
   ]
  },
  {
   "cell_type": "code",
   "execution_count": 1,
   "metadata": {},
   "outputs": [],
   "source": [
    "import polars as pl\n",
    "\n",
    "\n",
    "def read(n: str, **kwargs):\n",
    "    return pl.read_csv(f\"../data/{n}\", **kwargs).to_pandas()\n",
    "\n",
    "\n",
    "public = read(\"public/data.csv\")\n",
    "private = read(\"private/data.csv\")\n",
    "private = private.loc[\n",
    "    private.oil_property_param_title == \"ad7e6027-00b8-4c27-918c-d1561f949ad8\"\n",
    "]"
   ]
  },
  {
   "cell_type": "code",
   "execution_count": 2,
   "metadata": {},
   "outputs": [
    {
     "data": {
      "text/plain": [
       "{'shape': (40127, 10),\n",
       " 'blend_id_unique': 343,\n",
       " 'oil_ppv_unique': 324,\n",
       " 'smiles_unique': 51}"
      ]
     },
     "metadata": {},
     "output_type": "display_data"
    }
   ],
   "source": [
    "private = private.drop_duplicates().reset_index(drop=True)\n",
    "\n",
    "display({\n",
    "    \"shape\": private.shape,\n",
    "    \"blend_id_unique\": private[\"blend_id\"].nunique(),\n",
    "    \"oil_ppv_unique\": private[\"oil_property_param_value\"].nunique(),\n",
    "    \"smiles_unique\": private[\"smiles\"].nunique(),\n",
    "})"
   ]
  },
  {
   "cell_type": "code",
   "execution_count": 3,
   "metadata": {},
   "outputs": [
    {
     "data": {
      "text/plain": [
       "{'shape': (1387, 3),\n",
       " 'blend_id_unique': 341,\n",
       " 'oil_ppv_unique': 322,\n",
       " 'smiles_unique': 53}"
      ]
     },
     "metadata": {},
     "output_type": "display_data"
    }
   ],
   "source": [
    "display({\n",
    "    \"shape\": public.shape,\n",
    "    \"blend_id_unique\": public[\"blend_id\"].nunique(),\n",
    "    \"oil_ppv_unique\": public[\"oil_property_param_value\"].nunique(),\n",
    "    \"smiles_unique\": public[\"smiles\"].nunique(),\n",
    "})"
   ]
  },
  {
   "cell_type": "code",
   "execution_count": 4,
   "metadata": {},
   "outputs": [
    {
     "data": {
      "text/plain": [
       "{'shape': (173226, 12),\n",
       " 'blend_id_unique': 341,\n",
       " 'oil_ppv_Y_unique': 322,\n",
       " 'smiles_Y_unique': 53,\n",
       " 'oil_ppv_X_unique': 322,\n",
       " 'smiles_X_unique': 51}"
      ]
     },
     "metadata": {},
     "output_type": "display_data"
    },
    {
     "data": {
      "text/html": [
       "<div>\n",
       "<style scoped>\n",
       "    .dataframe tbody tr th:only-of-type {\n",
       "        vertical-align: middle;\n",
       "    }\n",
       "\n",
       "    .dataframe tbody tr th {\n",
       "        vertical-align: top;\n",
       "    }\n",
       "\n",
       "    .dataframe thead th {\n",
       "        text-align: right;\n",
       "    }\n",
       "</style>\n",
       "<table border=\"1\" class=\"dataframe\">\n",
       "  <thead>\n",
       "    <tr style=\"text-align: right;\">\n",
       "      <th></th>\n",
       "      <th>blend_id</th>\n",
       "      <th>component_class</th>\n",
       "      <th>component_name</th>\n",
       "      <th>component_property_param_title</th>\n",
       "      <th>component_property_param_value</th>\n",
       "      <th>oil_property_param_title</th>\n",
       "      <th>oil_property_param_value_x</th>\n",
       "      <th>oil_property_param_value_y</th>\n",
       "      <th>oil_type</th>\n",
       "      <th>polymer</th>\n",
       "      <th>smiles_x</th>\n",
       "      <th>smiles_y</th>\n",
       "    </tr>\n",
       "  </thead>\n",
       "  <tbody>\n",
       "    <tr>\n",
       "      <th>0</th>\n",
       "      <td>49743a76-a614-11ee-9529-005056921581</td>\n",
       "      <td>базовое масло 1 гр</td>\n",
       "      <td>615537f6-1f8f-4240-a5e9-8f7be344ecd3</td>\n",
       "      <td>02236ee6-5eec-4368-a2e4-6f2e73fb0f96</td>\n",
       "      <td>0.0</td>\n",
       "      <td>ad7e6027-00b8-4c27-918c-d1561f949ad8</td>\n",
       "      <td>103300.0</td>\n",
       "      <td>103300.0</td>\n",
       "      <td>3fa07e0a-415c-496d-b88b-557855cb3e77</td>\n",
       "      <td>no</td>\n",
       "      <td>CCCCC</td>\n",
       "      <td>CCCCC</td>\n",
       "    </tr>\n",
       "  </tbody>\n",
       "</table>\n",
       "</div>"
      ],
      "text/plain": [
       "                               blend_id     component_class  \\\n",
       "0  49743a76-a614-11ee-9529-005056921581  базовое масло 1 гр   \n",
       "\n",
       "                         component_name        component_property_param_title  \\\n",
       "0  615537f6-1f8f-4240-a5e9-8f7be344ecd3  02236ee6-5eec-4368-a2e4-6f2e73fb0f96   \n",
       "\n",
       "   component_property_param_value              oil_property_param_title  \\\n",
       "0                             0.0  ad7e6027-00b8-4c27-918c-d1561f949ad8   \n",
       "\n",
       "   oil_property_param_value_x  oil_property_param_value_y  \\\n",
       "0                    103300.0                    103300.0   \n",
       "\n",
       "                               oil_type polymer smiles_x smiles_y  \n",
       "0  3fa07e0a-415c-496d-b88b-557855cb3e77      no    CCCCC    CCCCC  "
      ]
     },
     "execution_count": 4,
     "metadata": {},
     "output_type": "execute_result"
    }
   ],
   "source": [
    "merged = (\n",
    "    private.merge(public, on=\"blend_id\").sort_index(axis=1).drop_duplicates()\n",
    ")\n",
    "\n",
    "display({\n",
    "    \"shape\": merged.shape,\n",
    "    \"blend_id_unique\": merged[\"blend_id\"].nunique(),\n",
    "    \"oil_ppv_Y_unique\": merged[\"oil_property_param_value_y\"].nunique(),\n",
    "    \"smiles_Y_unique\": merged[\"smiles_y\"].nunique(),\n",
    "    \"oil_ppv_X_unique\": merged[\"oil_property_param_value_x\"].nunique(),\n",
    "    \"smiles_X_unique\": merged[\"smiles_x\"].nunique(),\n",
    "})\n",
    "merged.head(1)"
   ]
  },
  {
   "cell_type": "code",
   "execution_count": 5,
   "metadata": {},
   "outputs": [
    {
     "data": {
      "text/plain": [
       "{'shape': (536, 2), 'blend_id_unique': 138, 'smiles_unique': 56}"
      ]
     },
     "metadata": {},
     "output_type": "display_data"
    }
   ],
   "source": [
    "check_public = read(\"public/check.csv\")\n",
    "\n",
    "display({\n",
    "    \"shape\": check_public.shape,\n",
    "    \"blend_id_unique\": check_public[\"blend_id\"].nunique(),\n",
    "    \"smiles_unique\": check_public[\"smiles\"].nunique(),\n",
    "})"
   ]
  },
  {
   "cell_type": "code",
   "execution_count": 6,
   "metadata": {},
   "outputs": [
    {
     "data": {
      "text/plain": [
       "{'shape': (110123, 10), 'blend_id_unique': 138, 'smiles_unique': 54}"
      ]
     },
     "metadata": {},
     "output_type": "display_data"
    }
   ],
   "source": [
    "check_private = read(\"private/check.csv\")\n",
    "# check_private = check_private.loc[\n",
    "#     check_private.oil_property_param_title\n",
    "#     == \"ad7e6027-00b8-4c27-918c-d1561f949ad8\"\n",
    "# ]\n",
    "\n",
    "display({\n",
    "    \"shape\": check_private.shape,\n",
    "    \"blend_id_unique\": check_private[\"blend_id\"].nunique(),\n",
    "    \"smiles_unique\": check_private[\"smiles\"].nunique(),\n",
    "})"
   ]
  },
  {
   "cell_type": "code",
   "execution_count": 7,
   "metadata": {},
   "outputs": [
    {
     "data": {
      "text/plain": [
       "138"
      ]
     },
     "execution_count": 7,
     "metadata": {},
     "output_type": "execute_result"
    }
   ],
   "source": [
    "sum(check_private.blend_id.unique() == check_public.blend_id.unique())"
   ]
  },
  {
   "cell_type": "code",
   "execution_count": 29,
   "metadata": {},
   "outputs": [
    {
     "data": {
      "text/plain": [
       "341"
      ]
     },
     "execution_count": 29,
     "metadata": {},
     "output_type": "execute_result"
    }
   ],
   "source": [
    "len(set(public.blend_id.unique()).intersection(set(private.blend_id.unique())))"
   ]
  }
 ],
 "metadata": {
  "kernelspec": {
   "display_name": "Python 3 (ipykernel)",
   "language": "python",
   "name": "python3"
  },
  "language_info": {
   "codemirror_mode": {
    "name": "ipython",
    "version": 3
   },
   "file_extension": ".py",
   "mimetype": "text/x-python",
   "name": "python",
   "nbconvert_exporter": "python",
   "pygments_lexer": "ipython3",
   "version": "3.10.14"
  }
 },
 "nbformat": 4,
 "nbformat_minor": 2
}
