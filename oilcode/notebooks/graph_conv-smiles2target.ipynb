{
 "cells": [
  {
   "cell_type": "markdown",
   "metadata": {},
   "source": [
    "# 1 часть модели, способная предсказывать необходимый параметр по SMILES.\n",
    "**Примечание:** Количество SMILES для одного масла может быть произвольным;"
   ]
  },
  {
   "cell_type": "code",
   "execution_count": null,
   "metadata": {},
   "outputs": [],
   "source": [
    "%pip install tensorflow==2.15 deepchem"
   ]
  },
  {
   "cell_type": "code",
   "execution_count": 19,
   "metadata": {},
   "outputs": [],
   "source": [
    "import deepchem as dc\n",
    "import polars as pl\n",
    "import pandas as pd\n",
    "import numpy as np\n",
    "\n",
    "from rdkit import Chem, RDLogger\n",
    "\n",
    "from typing import Optional\n",
    "\n",
    "from sklearn.pipeline import Pipeline\n",
    "from sklearn.impute import SimpleImputer\n",
    "from sklearn.preprocessing import OneHotEncoder\n",
    "from sklearn.compose import ColumnTransformer\n",
    "\n",
    "\n",
    "def read(n: str, **kwargs):\n",
    "    return pl.read_csv(f\"../data/{n}\", **kwargs).to_pandas()\n",
    "\n",
    "\n",
    "RDLogger.DisableLog(\"rdApp.*\")\n",
    "\n",
    "public = read(\"public/data.csv\")\n",
    "check = read(\"public/check.csv\")\n",
    "check = check.drop_duplicates(subset=[\"blend_id\"]).reset_index(drop=True)"
   ]
  },
  {
   "cell_type": "code",
   "execution_count": 20,
   "metadata": {},
   "outputs": [
    {
     "data": {
      "text/html": [
       "<div>\n",
       "<style scoped>\n",
       "    .dataframe tbody tr th:only-of-type {\n",
       "        vertical-align: middle;\n",
       "    }\n",
       "\n",
       "    .dataframe tbody tr th {\n",
       "        vertical-align: top;\n",
       "    }\n",
       "\n",
       "    .dataframe thead th {\n",
       "        text-align: right;\n",
       "    }\n",
       "</style>\n",
       "<table border=\"1\" class=\"dataframe\">\n",
       "  <thead>\n",
       "    <tr style=\"text-align: right;\">\n",
       "      <th></th>\n",
       "      <th>ConvMol</th>\n",
       "      <th>cat__blend_id_007b4d7a-b1f8-11ed-93b4-005056921581</th>\n",
       "      <th>cat__blend_id_0109d480-f91d-11ec-96ac-005056921581</th>\n",
       "      <th>cat__blend_id_01bc9ed0-0f2f-11ed-9900-005056921581</th>\n",
       "      <th>cat__blend_id_01d12ce2-ddec-11ed-8992-005056921581</th>\n",
       "      <th>cat__blend_id_01eae8bc-1885-11ed-98cd-005056921581</th>\n",
       "      <th>cat__blend_id_0366a302-d9cd-11ed-96ad-005056921581</th>\n",
       "      <th>cat__blend_id_037e9272-e5a9-11ed-8950-005056921581</th>\n",
       "      <th>cat__blend_id_03f8d734-5441-11ed-993d-005056921581</th>\n",
       "      <th>cat__blend_id_043e4af2-a2fc-11ee-850f-005056921581</th>\n",
       "      <th>...</th>\n",
       "      <th>cat__blend_id_f9a8223a-0cf1-11ed-87b0-005056921581</th>\n",
       "      <th>cat__blend_id_fb57b4fe-632f-11ec-8eb2-005056921581</th>\n",
       "      <th>cat__blend_id_fb583e86-4de6-11ed-9a6d-005056921581</th>\n",
       "      <th>cat__blend_id_fbc44952-0f2d-11ed-9900-005056921581</th>\n",
       "      <th>cat__blend_id_fc68e5c8-b25f-11ec-8ff7-005056921581</th>\n",
       "      <th>cat__blend_id_fd893206-5e3a-11ec-803b-005056921581</th>\n",
       "      <th>cat__blend_id_fd96a6a2-b0fb-11ec-9d4e-005056921581</th>\n",
       "      <th>cat__blend_id_fe2c1c0a-4f84-11ed-93f9-005056921581</th>\n",
       "      <th>cat__blend_id_fe497da4-4ac5-11ed-8f31-005056921581</th>\n",
       "      <th>cat__blend_id_fe8635a0-1262-11ed-8f47-005056921581</th>\n",
       "    </tr>\n",
       "  </thead>\n",
       "  <tbody>\n",
       "    <tr>\n",
       "      <th>0</th>\n",
       "      <td>&lt;deepchem.feat.mol_graphs.ConvMol object at 0x...</td>\n",
       "      <td>0.0</td>\n",
       "      <td>0.0</td>\n",
       "      <td>0.0</td>\n",
       "      <td>0.0</td>\n",
       "      <td>0.0</td>\n",
       "      <td>0.0</td>\n",
       "      <td>0.0</td>\n",
       "      <td>0.0</td>\n",
       "      <td>0.0</td>\n",
       "      <td>...</td>\n",
       "      <td>0.0</td>\n",
       "      <td>0.0</td>\n",
       "      <td>0.0</td>\n",
       "      <td>0.0</td>\n",
       "      <td>0.0</td>\n",
       "      <td>0.0</td>\n",
       "      <td>0.0</td>\n",
       "      <td>0.0</td>\n",
       "      <td>0.0</td>\n",
       "      <td>0.0</td>\n",
       "    </tr>\n",
       "  </tbody>\n",
       "</table>\n",
       "<p>1 rows × 342 columns</p>\n",
       "</div>"
      ],
      "text/plain": [
       "                                             ConvMol  \\\n",
       "0  <deepchem.feat.mol_graphs.ConvMol object at 0x...   \n",
       "\n",
       "   cat__blend_id_007b4d7a-b1f8-11ed-93b4-005056921581  \\\n",
       "0                                                0.0    \n",
       "\n",
       "   cat__blend_id_0109d480-f91d-11ec-96ac-005056921581  \\\n",
       "0                                                0.0    \n",
       "\n",
       "   cat__blend_id_01bc9ed0-0f2f-11ed-9900-005056921581  \\\n",
       "0                                                0.0    \n",
       "\n",
       "   cat__blend_id_01d12ce2-ddec-11ed-8992-005056921581  \\\n",
       "0                                                0.0    \n",
       "\n",
       "   cat__blend_id_01eae8bc-1885-11ed-98cd-005056921581  \\\n",
       "0                                                0.0    \n",
       "\n",
       "   cat__blend_id_0366a302-d9cd-11ed-96ad-005056921581  \\\n",
       "0                                                0.0    \n",
       "\n",
       "   cat__blend_id_037e9272-e5a9-11ed-8950-005056921581  \\\n",
       "0                                                0.0    \n",
       "\n",
       "   cat__blend_id_03f8d734-5441-11ed-993d-005056921581  \\\n",
       "0                                                0.0    \n",
       "\n",
       "   cat__blend_id_043e4af2-a2fc-11ee-850f-005056921581  ...  \\\n",
       "0                                                0.0   ...   \n",
       "\n",
       "   cat__blend_id_f9a8223a-0cf1-11ed-87b0-005056921581  \\\n",
       "0                                                0.0    \n",
       "\n",
       "   cat__blend_id_fb57b4fe-632f-11ec-8eb2-005056921581  \\\n",
       "0                                                0.0    \n",
       "\n",
       "   cat__blend_id_fb583e86-4de6-11ed-9a6d-005056921581  \\\n",
       "0                                                0.0    \n",
       "\n",
       "   cat__blend_id_fbc44952-0f2d-11ed-9900-005056921581  \\\n",
       "0                                                0.0    \n",
       "\n",
       "   cat__blend_id_fc68e5c8-b25f-11ec-8ff7-005056921581  \\\n",
       "0                                                0.0    \n",
       "\n",
       "   cat__blend_id_fd893206-5e3a-11ec-803b-005056921581  \\\n",
       "0                                                0.0    \n",
       "\n",
       "   cat__blend_id_fd96a6a2-b0fb-11ec-9d4e-005056921581  \\\n",
       "0                                                0.0    \n",
       "\n",
       "   cat__blend_id_fe2c1c0a-4f84-11ed-93f9-005056921581  \\\n",
       "0                                                0.0    \n",
       "\n",
       "   cat__blend_id_fe497da4-4ac5-11ed-8f31-005056921581  \\\n",
       "0                                                0.0    \n",
       "\n",
       "   cat__blend_id_fe8635a0-1262-11ed-8f47-005056921581  \n",
       "0                                                0.0   \n",
       "\n",
       "[1 rows x 342 columns]"
      ]
     },
     "execution_count": 20,
     "metadata": {},
     "output_type": "execute_result"
    }
   ],
   "source": [
    "featurizer = dc.feat.ConvMolFeaturizer()\n",
    "\n",
    "\n",
    "def preprocess(\n",
    "    data: pd.DataFrame, preprocessor: Optional[ColumnTransformer] = None\n",
    ") -> tuple[pd.DataFrame, Optional[pd.DataFrame], Optional[ColumnTransformer]]:\n",
    "    data = data.copy()\n",
    "    data.dropna(subset=[\"smiles\"], inplace=True)\n",
    "\n",
    "    def compute_descriptors(smiles: str):\n",
    "        mol = Chem.MolFromSmiles(smiles)\n",
    "        if mol is None:\n",
    "            return None\n",
    "\n",
    "        feature = featurizer.featurize([mol])[0]\n",
    "\n",
    "        return {\"ConvMol\": feature}\n",
    "\n",
    "    descriptors_df = pd.DataFrame.from_records(\n",
    "        data.smiles.apply(compute_descriptors).dropna()\n",
    "    )\n",
    "    data = pd.concat([data, descriptors_df], axis=1)\n",
    "    data = data.drop(\"smiles\", axis=1)\n",
    "\n",
    "    data.dropna(subset=[\"blend_id\"], inplace=True)\n",
    "    categorical_cols = [\"blend_id\"]\n",
    "    if (\n",
    "        preprocessor is None\n",
    "        and len(data.select_dtypes(include=[\"object\", \"category\"]).columns) > 0\n",
    "    ):\n",
    "        categorical_transformer = Pipeline(\n",
    "            steps=[\n",
    "                (\n",
    "                    \"imputer\",\n",
    "                    SimpleImputer(strategy=\"constant\", fill_value=\"missing\"),\n",
    "                ),\n",
    "                (\"onehot\", OneHotEncoder(handle_unknown=\"ignore\")),\n",
    "            ]\n",
    "        )\n",
    "        preprocessor = ColumnTransformer(\n",
    "            transformers=[\n",
    "                (\"cat\", categorical_transformer, categorical_cols),\n",
    "            ],\n",
    "            remainder=\"passthrough\",\n",
    "        )\n",
    "\n",
    "        encoding_data = pd.DataFrame(\n",
    "            preprocessor.fit_transform(data[categorical_cols]).toarray(),\n",
    "            columns=preprocessor.get_feature_names_out(categorical_cols),\n",
    "        )\n",
    "        data = pd.concat([data, encoding_data], axis=1)\n",
    "        data = data.drop(categorical_cols, axis=1)\n",
    "    else:\n",
    "        encoding_data = pd.DataFrame(\n",
    "            preprocessor.transform(data[categorical_cols]).toarray(),\n",
    "            columns=preprocessor.get_feature_names_out(categorical_cols),\n",
    "        )\n",
    "        data = pd.concat([data, encoding_data], axis=1)\n",
    "        data = data.drop(categorical_cols, axis=1)\n",
    "\n",
    "    data.dropna(inplace=True)\n",
    "\n",
    "    if \"oil_property_param_value\" in data.columns:\n",
    "        y = data.pop(\"oil_property_param_value\")\n",
    "        return pd.DataFrame(data), pd.DataFrame(y), preprocessor\n",
    "\n",
    "    return pd.DataFrame(data), None, preprocessor\n",
    "\n",
    "\n",
    "X, y, preprocessor = preprocess(public)\n",
    "X.head(1)"
   ]
  },
  {
   "cell_type": "code",
   "execution_count": 41,
   "metadata": {},
   "outputs": [],
   "source": [
    "dataset = dc.data.NumpyDataset(X=X.ConvMol, y=y.oil_property_param_value)\n",
    "\n",
    "splitter = dc.splits.RandomSplitter()\n",
    "train_dataset, valid_dataset, test_dataset = splitter.train_valid_test_split(\n",
    "    dataset=dataset, frac_train=0.9, frac_valid=0.0, frac_test=0.1\n",
    ")"
   ]
  },
  {
   "cell_type": "code",
   "execution_count": 42,
   "metadata": {},
   "outputs": [
    {
     "data": {
      "text/plain": [
       "10523371110.4"
      ]
     },
     "execution_count": 42,
     "metadata": {},
     "output_type": "execute_result"
    }
   ],
   "source": [
    "model = dc.models.GraphConvModel(n_tasks=1, mode=\"regression\")\n",
    "\n",
    "# Model training\n",
    "model.fit(train_dataset)"
   ]
  },
  {
   "cell_type": "code",
   "execution_count": 43,
   "metadata": {},
   "outputs": [
    {
     "name": "stdout",
     "output_type": "stream",
     "text": [
      "WARNING:tensorflow:5 out of the last 12 calls to <function KerasModel._compute_model at 0x000002940A937010> triggered tf.function retracing. Tracing is expensive and the excessive number of tracings could be due to (1) creating @tf.function repeatedly in a loop, (2) passing tensors with different shapes, (3) passing Python objects instead of tensors. For (1), please define your @tf.function outside of the loop. For (2), @tf.function has reduce_retracing=True option that can avoid unnecessary retracing. For (3), please refer to https://www.tensorflow.org/guide/function#controlling_retracing and https://www.tensorflow.org/api_docs/python/tf/function for  more details.\n",
      "Valid score: 75848.51, Test score: 75848.51\n"
     ]
    }
   ],
   "source": [
    "# initialze the metric\n",
    "metric = dc.metrics.Metric(dc.metrics.mae_score)\n",
    "\n",
    "# evaluate the model\n",
    "valid_score = model.evaluate(valid_dataset or test_dataset, [metric])[\"mae_score\"]\n",
    "test_score = model.evaluate(test_dataset, [metric])[\"mae_score\"]\n",
    "\n",
    "print(f\"Valid score: {valid_score:.2f}, Test score: {test_score:.2f}\")"
   ]
  },
  {
   "cell_type": "code",
   "execution_count": 47,
   "metadata": {},
   "outputs": [
    {
     "data": {
      "text/html": [
       "<div>\n",
       "<style scoped>\n",
       "    .dataframe tbody tr th:only-of-type {\n",
       "        vertical-align: middle;\n",
       "    }\n",
       "\n",
       "    .dataframe tbody tr th {\n",
       "        vertical-align: top;\n",
       "    }\n",
       "\n",
       "    .dataframe thead th {\n",
       "        text-align: right;\n",
       "    }\n",
       "</style>\n",
       "<table border=\"1\" class=\"dataframe\">\n",
       "  <thead>\n",
       "    <tr style=\"text-align: right;\">\n",
       "      <th></th>\n",
       "      <th>blend_id</th>\n",
       "      <th>results</th>\n",
       "    </tr>\n",
       "  </thead>\n",
       "  <tbody>\n",
       "    <tr>\n",
       "      <th>0</th>\n",
       "      <td>d272c9a6-3332-11ed-9685-005056921581</td>\n",
       "      <td>29.260405</td>\n",
       "    </tr>\n",
       "  </tbody>\n",
       "</table>\n",
       "</div>"
      ],
      "text/plain": [
       "                               blend_id    results\n",
       "0  d272c9a6-3332-11ed-9685-005056921581  29.260405"
      ]
     },
     "execution_count": 47,
     "metadata": {},
     "output_type": "execute_result"
    }
   ],
   "source": [
    "X_check, _, _ = preprocess(check, preprocessor)\n",
    "X_check_dataset = dc.data.NumpyDataset(X=X_check.ConvMol)\n",
    "\n",
    "predictions = pd.DataFrame(model.predict(X_check_dataset), columns=[\"results\"])\n",
    "predictions = pd.concat([check.blend_id, predictions], axis=1)\n",
    "predictions.head(1)"
   ]
  },
  {
   "cell_type": "code",
   "execution_count": 48,
   "metadata": {},
   "outputs": [],
   "source": [
    "predictions.to_csv(\"../predictions.csv\", index=False)"
   ]
  },
  {
   "cell_type": "code",
   "execution_count": 50,
   "metadata": {},
   "outputs": [
    {
     "name": "stdout",
     "output_type": "stream",
     "text": [
      "\n",
      "7-Zip 23.01 (x64) : Copyright (c) 1999-2023 Igor Pavlov : 2023-06-20\n",
      "\n",
      "Scanning the drive:\n",
      "2 files, 30168 bytes (30 KiB)\n",
      "\n",
      "Creating archive: ../solution.zip\n",
      "\n",
      "Add new data to archive: 2 files, 30168 bytes (30 KiB)\n",
      "\n",
      "\n",
      "Files read from disk: 2\n",
      "Archive size: 11898 bytes (12 KiB)\n",
      "Everything is Ok\n"
     ]
    }
   ],
   "source": [
    "!7z a ../solution.zip graph_conv-smiles2target.ipynb ../predictions.csv"
   ]
  }
 ],
 "metadata": {
  "kernelspec": {
   "display_name": "oilcode",
   "language": "python",
   "name": "python3"
  },
  "language_info": {
   "codemirror_mode": {
    "name": "ipython",
    "version": 3
   },
   "file_extension": ".py",
   "mimetype": "text/x-python",
   "name": "python",
   "nbconvert_exporter": "python",
   "pygments_lexer": "ipython3",
   "version": "3.10.14"
  }
 },
 "nbformat": 4,
 "nbformat_minor": 2
}
