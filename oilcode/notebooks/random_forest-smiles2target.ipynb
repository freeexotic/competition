{
 "cells": [
  {
   "cell_type": "markdown",
   "metadata": {},
   "source": [
    "# 1 часть модели, способная предсказывать необходимый параметр по SMILES.\n",
    "**Примечание:** Количество SMILES для одного масла может быть произвольным;"
   ]
  },
  {
   "cell_type": "code",
   "execution_count": 1,
   "metadata": {},
   "outputs": [
    {
     "name": "stderr",
     "output_type": "stream",
     "text": [
      "Skipped loading some Pytorch utilities, missing a dependency. No module named 'torch'\n"
     ]
    },
    {
     "name": "stdout",
     "output_type": "stream",
     "text": [
      "This module requires PyTorch to be installed.\n"
     ]
    },
    {
     "name": "stderr",
     "output_type": "stream",
     "text": [
      "No normalization for SPS. Feature removed!\n",
      "No normalization for AvgIpc. Feature removed!\n"
     ]
    },
    {
     "name": "stdout",
     "output_type": "stream",
     "text": [
      "WARNING:tensorflow:From c:\\Users\\xpos587\\scoop\\apps\\mambaforge\\current\\envs\\oilcode\\lib\\site-packages\\keras\\src\\losses.py:2976: The name tf.losses.sparse_softmax_cross_entropy is deprecated. Please use tf.compat.v1.losses.sparse_softmax_cross_entropy instead.\n",
      "\n",
      "WARNING:tensorflow:From c:\\Users\\xpos587\\scoop\\apps\\mambaforge\\current\\envs\\oilcode\\lib\\site-packages\\tensorflow\\python\\util\\deprecation.py:588: calling function (from tensorflow.python.eager.polymorphic_function.polymorphic_function) with experimental_relax_shapes is deprecated and will be removed in a future version.\n",
      "Instructions for updating:\n",
      "experimental_relax_shapes is deprecated, use reduce_retracing instead\n"
     ]
    },
    {
     "name": "stderr",
     "output_type": "stream",
     "text": [
      "Skipped loading some PyTorch models, missing a dependency. No module named 'torch'\n",
      "No module named 'torch'\n",
      "Skipped loading modules with pytorch-geometric dependency, missing a dependency. No module named 'torch'\n",
      "Skipped loading modules with pytorch-lightning dependency, missing a dependency. No module named 'torch'\n",
      "Skipped loading some Jax models, missing a dependency. No module named 'jax'\n"
     ]
    }
   ],
   "source": [
    "import deepchem as dc\n",
    "import polars as pl\n",
    "import pandas as pd\n",
    "import numpy as np\n",
    "\n",
    "from rdkit import Chem, RDLogger\n",
    "\n",
    "from typing import Optional\n",
    "\n",
    "from sklearn.pipeline import Pipeline\n",
    "from sklearn.impute import SimpleImputer\n",
    "from sklearn.preprocessing import OneHotEncoder\n",
    "from sklearn.compose import ColumnTransformer\n",
    "\n",
    "\n",
    "def read(n: str, **kwargs):\n",
    "    return pl.read_csv(f\"../data/{n}\", **kwargs).to_pandas()\n",
    "\n",
    "\n",
    "RDLogger.DisableLog(\"rdApp.*\")\n",
    "\n",
    "public = read(\"public/data.csv\")\n",
    "check = read(\"public/check.csv\")\n",
    "check = check.drop_duplicates(subset=[\"blend_id\"]).reset_index(drop=True)"
   ]
  },
  {
   "cell_type": "code",
   "execution_count": 2,
   "metadata": {},
   "outputs": [
    {
     "data": {
      "text/html": [
       "<div>\n",
       "<style scoped>\n",
       "    .dataframe tbody tr th:only-of-type {\n",
       "        vertical-align: middle;\n",
       "    }\n",
       "\n",
       "    .dataframe tbody tr th {\n",
       "        vertical-align: top;\n",
       "    }\n",
       "\n",
       "    .dataframe thead th {\n",
       "        text-align: right;\n",
       "    }\n",
       "</style>\n",
       "<table border=\"1\" class=\"dataframe\">\n",
       "  <thead>\n",
       "    <tr style=\"text-align: right;\">\n",
       "      <th></th>\n",
       "      <th>CFin_0</th>\n",
       "      <th>CFin_1</th>\n",
       "      <th>CFin_2</th>\n",
       "      <th>CFin_3</th>\n",
       "      <th>CFin_4</th>\n",
       "      <th>CFin_5</th>\n",
       "      <th>CFin_6</th>\n",
       "      <th>CFin_7</th>\n",
       "      <th>CFin_8</th>\n",
       "      <th>CFin_9</th>\n",
       "      <th>...</th>\n",
       "      <th>cat__blend_id_f9a8223a-0cf1-11ed-87b0-005056921581</th>\n",
       "      <th>cat__blend_id_fb57b4fe-632f-11ec-8eb2-005056921581</th>\n",
       "      <th>cat__blend_id_fb583e86-4de6-11ed-9a6d-005056921581</th>\n",
       "      <th>cat__blend_id_fbc44952-0f2d-11ed-9900-005056921581</th>\n",
       "      <th>cat__blend_id_fc68e5c8-b25f-11ec-8ff7-005056921581</th>\n",
       "      <th>cat__blend_id_fd893206-5e3a-11ec-803b-005056921581</th>\n",
       "      <th>cat__blend_id_fd96a6a2-b0fb-11ec-9d4e-005056921581</th>\n",
       "      <th>cat__blend_id_fe2c1c0a-4f84-11ed-93f9-005056921581</th>\n",
       "      <th>cat__blend_id_fe497da4-4ac5-11ed-8f31-005056921581</th>\n",
       "      <th>cat__blend_id_fe8635a0-1262-11ed-8f47-005056921581</th>\n",
       "    </tr>\n",
       "  </thead>\n",
       "  <tbody>\n",
       "    <tr>\n",
       "      <th>0</th>\n",
       "      <td>0.0</td>\n",
       "      <td>0.0</td>\n",
       "      <td>0.0</td>\n",
       "      <td>0.0</td>\n",
       "      <td>0.0</td>\n",
       "      <td>0.0</td>\n",
       "      <td>0.0</td>\n",
       "      <td>0.0</td>\n",
       "      <td>0.0</td>\n",
       "      <td>0.0</td>\n",
       "      <td>...</td>\n",
       "      <td>0.0</td>\n",
       "      <td>0.0</td>\n",
       "      <td>0.0</td>\n",
       "      <td>0.0</td>\n",
       "      <td>0.0</td>\n",
       "      <td>0.0</td>\n",
       "      <td>0.0</td>\n",
       "      <td>0.0</td>\n",
       "      <td>0.0</td>\n",
       "      <td>0.0</td>\n",
       "    </tr>\n",
       "  </tbody>\n",
       "</table>\n",
       "<p>1 rows × 1356 columns</p>\n",
       "</div>"
      ],
      "text/plain": [
       "   CFin_0  CFin_1  CFin_2  CFin_3  CFin_4  CFin_5  CFin_6  CFin_7  CFin_8  \\\n",
       "0     0.0     0.0     0.0     0.0     0.0     0.0     0.0     0.0     0.0   \n",
       "\n",
       "   CFin_9  ...  cat__blend_id_f9a8223a-0cf1-11ed-87b0-005056921581  \\\n",
       "0     0.0  ...                                                0.0    \n",
       "\n",
       "   cat__blend_id_fb57b4fe-632f-11ec-8eb2-005056921581  \\\n",
       "0                                                0.0    \n",
       "\n",
       "   cat__blend_id_fb583e86-4de6-11ed-9a6d-005056921581  \\\n",
       "0                                                0.0    \n",
       "\n",
       "   cat__blend_id_fbc44952-0f2d-11ed-9900-005056921581  \\\n",
       "0                                                0.0    \n",
       "\n",
       "   cat__blend_id_fc68e5c8-b25f-11ec-8ff7-005056921581  \\\n",
       "0                                                0.0    \n",
       "\n",
       "   cat__blend_id_fd893206-5e3a-11ec-803b-005056921581  \\\n",
       "0                                                0.0    \n",
       "\n",
       "   cat__blend_id_fd96a6a2-b0fb-11ec-9d4e-005056921581  \\\n",
       "0                                                0.0    \n",
       "\n",
       "   cat__blend_id_fe2c1c0a-4f84-11ed-93f9-005056921581  \\\n",
       "0                                                0.0    \n",
       "\n",
       "   cat__blend_id_fe497da4-4ac5-11ed-8f31-005056921581  \\\n",
       "0                                                0.0    \n",
       "\n",
       "   cat__blend_id_fe8635a0-1262-11ed-8f47-005056921581  \n",
       "0                                                0.0   \n",
       "\n",
       "[1 rows x 1356 columns]"
      ]
     },
     "execution_count": 2,
     "metadata": {},
     "output_type": "execute_result"
    }
   ],
   "source": [
    "featurizer = dc.feat.CircularFingerprint(size=1024)\n",
    "\n",
    "\n",
    "def preprocess(\n",
    "    data: pd.DataFrame, preprocessor: Optional[ColumnTransformer] = None\n",
    ") -> tuple[pd.DataFrame, Optional[pd.DataFrame], Optional[ColumnTransformer]]:\n",
    "    data = data.copy()\n",
    "    data.dropna(subset=[\"smiles\"], inplace=True)\n",
    "\n",
    "    def compute_descriptors(smiles: str):\n",
    "        mol = Chem.MolFromSmiles(smiles)\n",
    "        if mol is None:\n",
    "            return None\n",
    "\n",
    "        feature = featurizer.featurize([mol])[0]\n",
    "        if feature is None:\n",
    "            feature = np.zeros(featurizer.size)\n",
    "\n",
    "        features = {}\n",
    "\n",
    "        for i, bit in enumerate(feature):\n",
    "            features[f\"CFin_{i}\"] = bit\n",
    "\n",
    "        return features\n",
    "\n",
    "    descriptors_df = pd.DataFrame.from_records(\n",
    "        data.smiles.apply(compute_descriptors).dropna()\n",
    "    )\n",
    "    data = pd.concat([data, descriptors_df], axis=1)\n",
    "    data = data.drop(\"smiles\", axis=1)\n",
    "\n",
    "    data.dropna(subset=[\"blend_id\"], inplace=True)\n",
    "    categorical_cols = [\"blend_id\"]\n",
    "    if (\n",
    "        preprocessor is None\n",
    "        and len(data.select_dtypes(include=[\"object\", \"category\"]).columns) > 0\n",
    "    ):\n",
    "        categorical_transformer = Pipeline(\n",
    "            steps=[\n",
    "                (\n",
    "                    \"imputer\",\n",
    "                    SimpleImputer(strategy=\"constant\", fill_value=\"missing\"),\n",
    "                ),\n",
    "                (\"onehot\", OneHotEncoder(handle_unknown=\"ignore\")),\n",
    "            ]\n",
    "        )\n",
    "        preprocessor = ColumnTransformer(\n",
    "            transformers=[\n",
    "                (\"cat\", categorical_transformer, categorical_cols),\n",
    "            ],\n",
    "            remainder=\"passthrough\",\n",
    "        )\n",
    "\n",
    "        encoding_data = pd.DataFrame(\n",
    "            preprocessor.fit_transform(data[categorical_cols]).toarray(),\n",
    "            columns=preprocessor.get_feature_names_out(categorical_cols),\n",
    "        )\n",
    "        data = pd.concat([data, encoding_data], axis=1)\n",
    "        data = data.drop(categorical_cols, axis=1)\n",
    "    else:\n",
    "        encoding_data = pd.DataFrame(\n",
    "            preprocessor.transform(data[categorical_cols]).toarray(),\n",
    "            columns=preprocessor.get_feature_names_out(categorical_cols),\n",
    "        )\n",
    "        data = pd.concat([data, encoding_data], axis=1)\n",
    "        data = data.drop(categorical_cols, axis=1)\n",
    "\n",
    "    data.dropna(inplace=True)\n",
    "\n",
    "    if \"oil_property_param_value\" in data.columns:\n",
    "        y = data.pop(\"oil_property_param_value\")\n",
    "        return pd.DataFrame(data), pd.DataFrame(y), preprocessor\n",
    "\n",
    "    return pd.DataFrame(data), None, preprocessor\n",
    "\n",
    "\n",
    "X, y, preprocessor = preprocess(public)\n",
    "X.head(1)"
   ]
  },
  {
   "cell_type": "code",
   "execution_count": 3,
   "metadata": {},
   "outputs": [],
   "source": [
    "dataset = dc.data.NumpyDataset(X=X, y=y.oil_property_param_value.to_numpy())\n",
    "\n",
    "splitter = dc.splits.RandomSplitter()\n",
    "train_dataset, valid_dataset, test_dataset = splitter.train_valid_test_split(\n",
    "    dataset=dataset, frac_train=0.6, frac_valid=0.2, frac_test=0.2\n",
    ")"
   ]
  },
  {
   "cell_type": "code",
   "execution_count": 4,
   "metadata": {},
   "outputs": [],
   "source": [
    "from sklearn.ensemble import RandomForestRegressor\n",
    "\n",
    "rf = RandomForestRegressor()\n",
    "model = dc.models.SklearnModel(model=rf)\n",
    "\n",
    "# Model training\n",
    "model.fit(train_dataset)"
   ]
  },
  {
   "cell_type": "code",
   "execution_count": 5,
   "metadata": {},
   "outputs": [
    {
     "name": "stdout",
     "output_type": "stream",
     "text": [
      "Valid score: 38240.37, Test score: 40049.52\n"
     ]
    }
   ],
   "source": [
    "# initialze the metric\n",
    "metric = dc.metrics.Metric(dc.metrics.mae_score)\n",
    "\n",
    "# evaluate the model\n",
    "valid_score = model.evaluate(valid_dataset, [metric])[\"mae_score\"]\n",
    "test_score = model.evaluate(test_dataset, [metric])[\"mae_score\"]\n",
    "\n",
    "print(f\"Valid score: {valid_score:.2f}, Test score: {test_score:.2f}\")"
   ]
  },
  {
   "cell_type": "code",
   "execution_count": 21,
   "metadata": {},
   "outputs": [
    {
     "data": {
      "text/html": [
       "<div>\n",
       "<style scoped>\n",
       "    .dataframe tbody tr th:only-of-type {\n",
       "        vertical-align: middle;\n",
       "    }\n",
       "\n",
       "    .dataframe tbody tr th {\n",
       "        vertical-align: top;\n",
       "    }\n",
       "\n",
       "    .dataframe thead th {\n",
       "        text-align: right;\n",
       "    }\n",
       "</style>\n",
       "<table border=\"1\" class=\"dataframe\">\n",
       "  <thead>\n",
       "    <tr style=\"text-align: right;\">\n",
       "      <th></th>\n",
       "      <th>blend_id</th>\n",
       "      <th>results</th>\n",
       "    </tr>\n",
       "  </thead>\n",
       "  <tbody>\n",
       "    <tr>\n",
       "      <th>0</th>\n",
       "      <td>d272c9a6-3332-11ed-9685-005056921581</td>\n",
       "      <td>26494.53</td>\n",
       "    </tr>\n",
       "  </tbody>\n",
       "</table>\n",
       "</div>"
      ],
      "text/plain": [
       "                               blend_id   results\n",
       "0  d272c9a6-3332-11ed-9685-005056921581  26494.53"
      ]
     },
     "execution_count": 21,
     "metadata": {},
     "output_type": "execute_result"
    }
   ],
   "source": [
    "X_check, _, _ = preprocess(check, preprocessor)\n",
    "X_check_dataset = dc.data.NumpyDataset(X=X_check)\n",
    "\n",
    "predictions = pd.DataFrame(model.predict(X_check_dataset), columns=[\"results\"])\n",
    "predictions = pd.concat([check.blend_id, predictions], axis=1)\n",
    "predictions.head(1)"
   ]
  },
  {
   "cell_type": "code",
   "execution_count": 22,
   "metadata": {},
   "outputs": [],
   "source": [
    "predictions.to_csv(\"../predictions.csv\", index=False)"
   ]
  },
  {
   "cell_type": "code",
   "execution_count": 34,
   "metadata": {},
   "outputs": [
    {
     "name": "stdout",
     "output_type": "stream",
     "text": [
      "\n",
      "7-Zip 23.01 (x64) : Copyright (c) 1999-2023 Igor Pavlov : 2023-06-20\n",
      "\n",
      "Scanning the drive:\n",
      "2 files, 20814 bytes (21 KiB)\n",
      "\n",
      "Creating archive: ../solution.zip\n",
      "\n",
      "Add new data to archive: 2 files, 20814 bytes (21 KiB)\n",
      "\n",
      "\n",
      "Files read from disk: 2\n",
      "Archive size: 5308 bytes (6 KiB)\n",
      "Everything is Ok\n"
     ]
    }
   ],
   "source": [
    "!7z a ../solution.zip random_forest-smiles2target.ipynb ../predictions.csv"
   ]
  },
  {
   "attachments": {
    "image.png": {
     "image/png": "[encoded data removed]"
    }
   },
   "cell_type": "markdown",
   "metadata": {},
   "source": [
    "![image.png](attachment:image.png)"
   ]
  }
 ],
 "metadata": {
  "kernelspec": {
   "display_name": "oilcode",
   "language": "python",
   "name": "python3"
  },
  "language_info": {
   "codemirror_mode": {
    "name": "ipython",
    "version": 3
   },
   "file_extension": ".py",
   "mimetype": "text/x-python",
   "name": "python",
   "nbconvert_exporter": "python",
   "pygments_lexer": "ipython3",
   "version": "3.10.14"
  }
 },
 "nbformat": 4,
 "nbformat_minor": 2
}
