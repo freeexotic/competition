{
 "cells": [
  {
   "cell_type": "markdown",
   "metadata": {},
   "source": [
    "# Рассмотрим способы преобразования SMILES в машиночитаемый вид"
   ]
  },
  {
   "cell_type": "markdown",
   "metadata": {},
   "source": [
    "## Литература\n",
    "\n",
    "[The DeepChem Project](https://deepchem.readthedocs.io/en/latest/index.html)\n",
    "\n",
    "- [GitHub: dgl-lifesci/python/dgllife/utils/mol_to_graph.py](https://github.com/awslabs/dgl-lifesci/blob/master/python/dgllife/utils/mol_to_graph.py)\n",
    "\n",
    "- [GitHub: deepchem/deepchem/feat/molecule_featurizers.py](https://github.com/deepchem/deepchem/blob/master/deepchem/feat/molecule_featurizers/mol_graph_conv_featurizer.py)\n",
    "\n",
    "[Basic Molecular Representation for Machine Learning](https://towardsdatascience.com/basic-molecular-representation-for-machine-learning-b6be52e9ff76)\n",
    "\n",
    "[Graph neural network (GNN) for molecular property prediction (SMILES format)](https://github.com/masashitsubaki/molecularGNN_smiles)\n",
    "\n",
    "Optional:\n",
    "[Graph Neural Networks Course: Deep Learning](https://hhaji.github.io/Deep-Learning/Graph-Neural-Networks/)\n",
    "\n"
   ]
  },
  {
   "cell_type": "markdown",
   "metadata": {},
   "source": [
    "## RDKit\n",
    "библиотека для хемоинформатики, которая предоставляет множество инструментов для работы с молекулами. Одним из таких инструментов является преобразование SMILES в машиночитаемый вид. В этом ноутбуке мы рассмотрим несколько способов преобразования SMILES в машиночитаемый вид с использованием RDKit."
   ]
  },
  {
   "cell_type": "code",
   "execution_count": 2,
   "metadata": {},
   "outputs": [
    {
     "name": "stdout",
     "output_type": "stream",
     "text": [
      "Collecting rdkit\n",
      "  Using cached rdkit-2023.9.5-cp310-cp310-win_amd64.whl.metadata (4.0 kB)\n",
      "Requirement already satisfied: numpy in c:\\users\\xpos587\\scoop\\persist\\mambaforge\\envs\\oilcode\\lib\\site-packages (from rdkit) (1.26.4)\n",
      "Requirement already satisfied: Pillow in c:\\users\\xpos587\\scoop\\persist\\mambaforge\\envs\\oilcode\\lib\\site-packages (from rdkit) (10.3.0)\n",
      "Using cached rdkit-2023.9.5-cp310-cp310-win_amd64.whl (21.1 MB)\n",
      "Installing collected packages: rdkit\n",
      "Successfully installed rdkit-2023.9.5\n",
      "Note: you may need to restart the kernel to use updated packages.\n"
     ]
    }
   ],
   "source": [
    "%pip install rdkit"
   ]
  },
  {
   "cell_type": "code",
   "execution_count": 1,
   "metadata": {},
   "outputs": [
    {
     "data": {
      "image/png": "[encoded data removed]",
      "text/plain": [
       "<rdkit.Chem.rdchem.Mol at 0x2b08464bd80>"
      ]
     },
     "execution_count": 1,
     "metadata": {},
     "output_type": "execute_result"
    }
   ],
   "source": [
    "from rdkit import Chem\n",
    "\n",
    "smiles = \"O=C(C)Oc1ccccc1C(=O)O\"  # Этанол в формате SMILES\n",
    "molecule = Chem.MolFromSmiles(smiles)\n",
    "\n",
    "# Теперь molecule является машиночитаемым объектом, с которым можно работать\n",
    "molecule"
   ]
  },
  {
   "cell_type": "markdown",
   "metadata": {},
   "source": [
    "## DeepChem\n",
    "Библиотека для разработки и обучения моделей машинного обучения для химических данных. DeepChem предоставляет множество инструментов для работы с химическими данными, включая преобразование SMILES в машиночитаемый вид. В этом ноутбуке мы рассмотрим несколько способов преобразования SMILES в машиночитаемый вид с использованием DeepChem.\n",
    "\n",
    "[Feature Engineering](https://deepchem.readthedocs.io/en/latest/get_started/tutorials.html#feature-engineering)\n"
   ]
  },
  {
   "cell_type": "code",
   "execution_count": 2,
   "metadata": {},
   "outputs": [
    {
     "name": "stdout",
     "output_type": "stream",
     "text": [
      "Note: you may need to restart the kernel to use updated packages.\n"
     ]
    }
   ],
   "source": [
    "%pip install deepchem pyarrow -q"
   ]
  },
  {
   "cell_type": "code",
   "execution_count": 11,
   "metadata": {},
   "outputs": [],
   "source": [
    "import deepchem as dc\n",
    "\n",
    "smiles = [\n",
    "    \"O=Cc1ccc(O)c(OC)c1\",\n",
    "    \"CN1CCC[C@H]1c2cccnc2\",\n",
    "    \"C1CCCCC1\",\n",
    "    \"c1ccccc1\",\n",
    "    \"CC(=O)O\",\n",
    "]\n",
    "properties = [0.4, -1.5, 3.2, -0.2, 1.7]"
   ]
  },
  {
   "cell_type": "code",
   "execution_count": 12,
   "metadata": {},
   "outputs": [
    {
     "data": {
      "text/plain": [
       "<NumpyDataset X.shape: (5,), y.shape: (5,), w.shape: (5,), ids: [0 1 2 3 4], task_names: [0]>"
      ]
     },
     "execution_count": 12,
     "metadata": {},
     "output_type": "execute_result"
    }
   ],
   "source": [
    "mol_graph_conv_featurizer = dc.feat.MolGraphConvFeaturizer()\n",
    "mol_graph_conv_features = mol_graph_conv_featurizer.featurize(smiles)\n",
    "dataset = dc.data.NumpyDataset(\n",
    "    X=mol_graph_conv_features, y=properties\n",
    ")\n",
    "dataset"
   ]
  },
  {
   "cell_type": "code",
   "execution_count": 13,
   "metadata": {},
   "outputs": [
    {
     "data": {
      "text/plain": [
       "<DiskDataset X.shape: (5,), y.shape: (5,), w.shape: (5,), ids: [0 1 2 3 4], task_names: [0]>"
      ]
     },
     "execution_count": 13,
     "metadata": {},
     "output_type": "execute_result"
    }
   ],
   "source": [
    "conv_mol_featurizer = dc.feat.ConvMolFeaturizer()\n",
    "conv_mol_features = conv_mol_featurizer.featurize(smiles)\n",
    "train_dataset = dc.data.DiskDataset.from_numpy(conv_mol_features, properties, w=None, ids=None, tasks=None)\n",
    "train_dataset"
   ]
  }
 ],
 "metadata": {
  "kernelspec": {
   "display_name": "Python 3 (ipykernel)",
   "language": "python",
   "name": "python3"
  },
  "language_info": {
   "codemirror_mode": {
    "name": "ipython",
    "version": 3
   },
   "file_extension": ".py",
   "mimetype": "text/x-python",
   "name": "python",
   "nbconvert_exporter": "python",
   "pygments_lexer": "ipython3",
   "version": "3.10.14"
  }
 },
 "nbformat": 4,
 "nbformat_minor": 2
}
